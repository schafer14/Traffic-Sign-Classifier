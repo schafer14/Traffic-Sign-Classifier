{
 "cells": [
  {
   "cell_type": "markdown",
   "metadata": {},
   "source": [
    "# Self-Driving Car Engineer Nanodegree\n",
    "\n",
    "## Deep Learning\n",
    "\n",
    "## Project: Build a Traffic Sign Recognition Classifier\n",
    "\n",
    "In this notebook, a template is provided for you to implement your functionality in stages, which is required to successfully complete this project. If additional code is required that cannot be included in the notebook, be sure that the Python code is successfully imported and included in your submission if necessary. \n",
    "\n",
    "> **Note**: Once you have completed all of the code implementations, you need to finalize your work by exporting the iPython Notebook as an HTML document. Before exporting the notebook to html, all of the code cells need to have been run so that reviewers can see the final implementation and output. You can then export the notebook by using the menu above and navigating to  \\n\",\n",
    "    \"**File -> Download as -> HTML (.html)**. Include the finished document along with this notebook as your submission. \n",
    "\n",
    "In addition to implementing code, there is a writeup to complete. The writeup should be completed in a separate file, which can be either a markdown file or a pdf document. There is a [write up template](https://github.com/udacity/CarND-Traffic-Sign-Classifier-Project/blob/master/writeup_template.md) that can be used to guide the writing process. Completing the code template and writeup template will cover all of the [rubric points](https://review.udacity.com/#!/rubrics/481/view) for this project.\n",
    "\n",
    "The [rubric](https://review.udacity.com/#!/rubrics/481/view) contains \"Stand Out Suggestions\" for enhancing the project beyond the minimum requirements. The stand out suggestions are optional. If you decide to pursue the \"stand out suggestions\", you can include the code in this Ipython notebook and also discuss the results in the writeup file.\n",
    "\n",
    "\n",
    ">**Note:** Code and Markdown cells can be executed using the **Shift + Enter** keyboard shortcut. In addition, Markdown cells can be edited by typically double-clicking the cell to enter edit mode."
   ]
  },
  {
   "cell_type": "markdown",
   "metadata": {},
   "source": [
    "---\n",
    "## Step 0: Load The Data"
   ]
  },
  {
   "cell_type": "code",
   "execution_count": 1,
   "metadata": {
    "collapsed": true
   },
   "outputs": [],
   "source": [
    "# Load pickled data\n",
    "import pickle\n",
    "import numpy as np\n",
    "import pandas as pd\n",
    "\n",
    "# TODO: Fill this in based on where you saved the training and testing data\n",
    "\n",
    "training_file = '/home/carnd/train.p'\n",
    "validation_file= '/home/carnd/valid.p'\n",
    "testing_file = '/home/carnd/test.p'\n",
    "\n",
    "with open(training_file, mode='rb') as f:\n",
    "    train = pickle.load(f)\n",
    "with open(validation_file, mode='rb') as f:\n",
    "    valid = pickle.load(f)\n",
    "with open(testing_file, mode='rb') as f:\n",
    "    test = pickle.load(f)\n",
    "    \n",
    "X_train, y_train = train['features'], train['labels']\n",
    "X_valid, y_valid = valid['features'], valid['labels']\n",
    "X_test, y_test = test['features'], test['labels']"
   ]
  },
  {
   "cell_type": "code",
   "execution_count": 2,
   "metadata": {},
   "outputs": [
    {
     "name": "stdout",
     "output_type": "stream",
     "text": [
      "(34799, 32, 32, 3)\n",
      "(4410, 32, 32, 3)\n",
      "(12630, 32, 32, 3)\n"
     ]
    }
   ],
   "source": [
    "print(X_train.shape)\n",
    "print(X_valid.shape)\n",
    "print(X_test.shape)"
   ]
  },
  {
   "cell_type": "markdown",
   "metadata": {},
   "source": [
    "### Read Sign Name Mappings"
   ]
  },
  {
   "cell_type": "code",
   "execution_count": 3,
   "metadata": {
    "collapsed": true
   },
   "outputs": [],
   "source": [
    "mappings = pd.read_csv('./signnames.csv')"
   ]
  },
  {
   "cell_type": "markdown",
   "metadata": {},
   "source": [
    "---\n",
    "\n",
    "## Step 1: Dataset Summary & Exploration\n",
    "\n",
    "The pickled data is a dictionary with 4 key/value pairs:\n",
    "\n",
    "- `'features'` is a 4D array containing raw pixel data of the traffic sign images, (num examples, width, height, channels).\n",
    "- `'labels'` is a 1D array containing the label/class id of the traffic sign. The file `signnames.csv` contains id -> name mappings for each id.\n",
    "- `'sizes'` is a list containing tuples, (width, height) representing the original width and height the image.\n",
    "- `'coords'` is a list containing tuples, (x1, y1, x2, y2) representing coordinates of a bounding box around the sign in the image. **THESE COORDINATES ASSUME THE ORIGINAL IMAGE. THE PICKLED DATA CONTAINS RESIZED VERSIONS (32 by 32) OF THESE IMAGES**\n",
    "\n",
    "Complete the basic data summary below. Use python, numpy and/or pandas methods to calculate the data summary rather than hard coding the results. For example, the [pandas shape method](http://pandas.pydata.org/pandas-docs/stable/generated/pandas.DataFrame.shape.html) might be useful for calculating some of the summary results. "
   ]
  },
  {
   "cell_type": "markdown",
   "metadata": {},
   "source": [
    "### Provide a Basic Summary of the Data Set Using Python, Numpy and/or Pandas"
   ]
  },
  {
   "cell_type": "code",
   "execution_count": 4,
   "metadata": {},
   "outputs": [
    {
     "name": "stdout",
     "output_type": "stream",
     "text": [
      "Number of training examples = 34799\n",
      "Number of testing examples = 12630\n",
      "Image data shape = (32, 32, 3)\n",
      "Number of classes in training= 43\n",
      "Number of classes in test= 43\n"
     ]
    }
   ],
   "source": [
    "### Replace each question mark with the appropriate value. \n",
    "### Use python, pandas or numpy methods rather than hard coding the results\n",
    "\n",
    "# TODO: Number of training examples\n",
    "n_train = X_train.shape[0]\n",
    "\n",
    "# TODO: Number of validation examples\n",
    "n_validation = X_valid.shape[0]\n",
    "\n",
    "# TODO: Number of testing examples.\n",
    "n_test = X_test.shape[0]\n",
    "\n",
    "# TODO: What's the shape of an traffic sign image?\n",
    "image_shape = X_train.shape[1:]\n",
    "\n",
    "# TODO: How many unique classes/labels there are in the dataset.\n",
    "# Just to make sure all classes from test are represented in train.\n",
    "n_classes_train = len(np.unique(y_train))\n",
    "n_classes_test = len(np.unique(y_test))\n",
    "\n",
    "print(\"Number of training examples =\", n_train)\n",
    "print(\"Number of testing examples =\", n_test)\n",
    "print(\"Image data shape =\", image_shape)\n",
    "print(\"Number of classes in training=\", n_classes_train)\n",
    "print(\"Number of classes in test=\", n_classes_test)"
   ]
  },
  {
   "cell_type": "markdown",
   "metadata": {},
   "source": [
    "### Look at the number of examples in each class and hope it's roughly even"
   ]
  },
  {
   "cell_type": "code",
   "execution_count": 5,
   "metadata": {},
   "outputs": [
    {
     "data": {
      "text/plain": [
       "array([ 180, 1980, 2010, 1260, 1770, 1650,  360, 1290, 1260, 1320, 1800,\n",
       "       1170, 1890, 1920,  690,  540,  360,  990, 1080,  180,  300,  270,\n",
       "        330,  450,  240, 1350,  540,  210,  480,  240,  390,  690,  210,\n",
       "        599,  360, 1080,  330,  180, 1860,  270,  300,  210,  210])"
      ]
     },
     "execution_count": 5,
     "metadata": {},
     "output_type": "execute_result"
    }
   ],
   "source": [
    "np.bincount(y_train)"
   ]
  },
  {
   "cell_type": "markdown",
   "metadata": {},
   "source": [
    "### Include an exploratory visualization of the dataset"
   ]
  },
  {
   "cell_type": "markdown",
   "metadata": {},
   "source": [
    "Visualize the German Traffic Signs Dataset using the pickled file(s). This is open ended, suggestions include: plotting traffic sign images, plotting the count of each sign, etc. \n",
    "\n",
    "The [Matplotlib](http://matplotlib.org/) [examples](http://matplotlib.org/examples/index.html) and [gallery](http://matplotlib.org/gallery.html) pages are a great resource for doing visualizations in Python.\n",
    "\n",
    "**NOTE:** It's recommended you start with something simple first. If you wish to do more, come back to it after you've completed the rest of the sections. It can be interesting to look at the distribution of classes in the training, validation and test set. Is the distribution the same? Are there more examples of some classes than others?"
   ]
  },
  {
   "cell_type": "code",
   "execution_count": 6,
   "metadata": {},
   "outputs": [
    {
     "name": "stdout",
     "output_type": "stream",
     "text": [
      "Yield\n",
      "Speed limit (80km/h)\n",
      "Speed limit (100km/h)\n",
      "Priority road\n",
      "Priority road\n"
     ]
    },
    {
     "data": {
      "image/png": "[encoded data removed]",
      "text/plain": [
       "<matplotlib.figure.Figure at 0x7febf69f87b8>"
      ]
     },
     "metadata": {},
     "output_type": "display_data"
    },
    {
     "data": {
      "image/png": "[encoded data removed]",
      "text/plain": [
       "<matplotlib.figure.Figure at 0x7febf672b780>"
      ]
     },
     "metadata": {},
     "output_type": "display_data"
    },
    {
     "data": {
      "image/png": "[encoded data removed]",
      "text/plain": [
       "<matplotlib.figure.Figure at 0x7febf6742d68>"
      ]
     },
     "metadata": {},
     "output_type": "display_data"
    },
    {
     "data": {
      "image/png": "[encoded data removed]",
      "text/plain": [
       "<matplotlib.figure.Figure at 0x7febf66512e8>"
      ]
     },
     "metadata": {},
     "output_type": "display_data"
    },
    {
     "data": {
      "image/png": "[encoded data removed]",
      "text/plain": [
       "<matplotlib.figure.Figure at 0x7febf6661e48>"
      ]
     },
     "metadata": {},
     "output_type": "display_data"
    }
   ],
   "source": [
    "### Data exploration visualization code goes here.\n",
    "### Feel free to use as many code cells as needed.\n",
    "import matplotlib.pyplot as plt\n",
    "import matplotlib.image as mpimg\n",
    "# Visualizations will be shown in the notebook.\n",
    "%matplotlib inline\n",
    "\n",
    "indices = np.random.choice(X_train.shape[0], 5)\n",
    "for index in indices:\n",
    "    print(mappings.loc[y_train[index]][1])\n",
    "    plt.figure()\n",
    "    plt.imshow(X_train[index, :, :, :])\n"
   ]
  },
  {
   "cell_type": "markdown",
   "metadata": {},
   "source": [
    "----\n",
    "\n",
    "## Step 2: Design and Test a Model Architecture\n",
    "\n",
    "Design and implement a deep learning model that learns to recognize traffic signs. Train and test your model on the [German Traffic Sign Dataset](http://benchmark.ini.rub.de/?section=gtsrb&subsection=dataset).\n",
    "\n",
    "The LeNet-5 implementation shown in the [classroom](https://classroom.udacity.com/nanodegrees/nd013/parts/fbf77062-5703-404e-b60c-95b78b2f3f9e/modules/6df7ae49-c61c-4bb2-a23e-6527e69209ec/lessons/601ae704-1035-4287-8b11-e2c2716217ad/concepts/d4aca031-508f-4e0b-b493-e7b706120f81) at the end of the CNN lesson is a solid starting point. You'll have to change the number of classes and possibly the preprocessing, but aside from that it's plug and play! \n",
    "\n",
    "With the LeNet-5 solution from the lecture, you should expect a validation set accuracy of about 0.89. To meet specifications, the validation set accuracy will need to be at least 0.93. It is possible to get an even higher accuracy, but 0.93 is the minimum for a successful project submission. \n",
    "\n",
    "There are various aspects to consider when thinking about this problem:\n",
    "\n",
    "- Neural network architecture (is the network over or underfitting?)\n",
    "- Play around preprocessing techniques (normalization, rgb to grayscale, etc)\n",
    "- Number of examples per label (some have more than others).\n",
    "- Generate fake data.\n",
    "\n",
    "Here is an example of a [published baseline model on this problem](http://yann.lecun.com/exdb/publis/pdf/sermanet-ijcnn-11.pdf). It's not required to be familiar with the approach used in the paper but, it's good practice to try to read papers like these."
   ]
  },
  {
   "cell_type": "markdown",
   "metadata": {},
   "source": [
    "## Data Augmentation"
   ]
  },
  {
   "cell_type": "code",
   "execution_count": 7,
   "metadata": {
    "collapsed": true
   },
   "outputs": [],
   "source": [
    "import math\n",
    "import scipy.misc\n",
    "import scipy.ndimage.interpolation\n",
    "\n",
    "def random_operation():\n",
    "    def shift(img):\n",
    "        shift_right = math.floor(np.random.random() * 10) - 5\n",
    "        shift_down = math.floor(np.random.random() * 10) - 5\n",
    "        new_image = np.roll(img, shift_right, axis=0)\n",
    "        new_image = np.roll(new_image, shift_down, axis=1)\n",
    "        \n",
    "        return new_image\n",
    "        \n",
    "    def rot(img):\n",
    "        theta = math.floor(np.random.random() * 50) - 25\n",
    "        new_image = scipy.misc.imrotate(img, theta)\n",
    "        \n",
    "        return new_image\n",
    "    \n",
    "    def brighten(img):\n",
    "        value = math.floor(np.random.random() * 10) - 5\n",
    "        value = -5\n",
    "        new_image = img + value\n",
    "        \n",
    "        return new_image\n",
    "        \n",
    "    ops = [shift, rot, brighten]\n",
    "    \n",
    "    return np.random.choice(ops, size=1)[0]"
   ]
  },
  {
   "cell_type": "code",
   "execution_count": 8,
   "metadata": {},
   "outputs": [
    {
     "name": "stdout",
     "output_type": "stream",
     "text": [
      "Building augmented data set\n",
      "Starting class 0\n",
      "11\n",
      "Starting class 1\n",
      "1\n",
      "Starting class 2\n",
      "1\n",
      "Starting class 3\n",
      "1\n",
      "Starting class 4\n",
      "1\n",
      "Starting class 5\n",
      "1\n",
      "Starting class 6\n",
      "5\n",
      "Starting class 7\n",
      "1\n",
      "Starting class 8\n",
      "1\n",
      "Starting class 9\n",
      "1\n",
      "Starting class 10\n",
      "1\n",
      "Starting class 11\n",
      "1\n",
      "Starting class 12\n",
      "1\n",
      "Starting class 13\n",
      "1\n",
      "Starting class 14\n",
      "2\n",
      "Starting class 15\n",
      "3\n",
      "Starting class 16\n",
      "5\n",
      "Starting class 17\n",
      "2\n",
      "Starting class 18\n",
      "1\n",
      "Starting class 19\n",
      "11\n",
      "Starting class 20\n",
      "6\n",
      "Starting class 21\n",
      "7\n",
      "Starting class 22\n",
      "6\n",
      "Starting class 23\n",
      "4\n",
      "Starting class 24\n",
      "8\n",
      "Starting class 25\n",
      "1\n",
      "Starting class 26\n",
      "3\n",
      "Starting class 27\n",
      "9\n",
      "Starting class 28\n",
      "4\n",
      "Starting class 29\n",
      "8\n",
      "Starting class 30\n",
      "5\n",
      "Starting class 31\n",
      "2\n",
      "Starting class 32\n",
      "9\n",
      "Starting class 33\n",
      "3\n",
      "Starting class 34\n",
      "5\n",
      "Starting class 35\n",
      "1\n",
      "Starting class 36\n",
      "6\n",
      "Starting class 37\n",
      "11\n",
      "Starting class 38\n",
      "1\n",
      "Starting class 39\n",
      "7\n",
      "Starting class 40\n",
      "6\n",
      "Starting class 41\n",
      "9\n",
      "Starting class 42\n",
      "9\n"
     ]
    }
   ],
   "source": [
    "import os.path\n",
    "\n",
    "classes = np.unique(y_train)\n",
    "max_class = max(np.bincount(y_train))\n",
    "\n",
    "if os.path.isfile('bigger_data.npy'):\n",
    "    X_train = np.load('bigger_data.npy')\n",
    "    y_train = np.load('bigger_data_labels.npy')\n",
    "    print('Loading augmented data set')\n",
    "else:\n",
    "    print('Building augmented data set')\n",
    "    for c in classes:\n",
    "        print('Starting class {}'.format(c))\n",
    "        indicies = np.where(y_train == c)\n",
    "        num_examples = len(indicies[0])\n",
    "        ops_needed = math.floor(max_class / num_examples)\n",
    "        print(ops_needed)\n",
    "        remainder_opps_needed = max_class - num_examples * ops_needed\n",
    "\n",
    "        for i in range(ops_needed):\n",
    "            for index in indicies[0]:\n",
    "                operation = random_operation()\n",
    "                new_image = operation(X_train[index])\n",
    "                X_train = np.concatenate((X_train, [new_image]), axis=0)\n",
    "                y_train = np.append(y_train, c)\n",
    "    \n",
    "    np.save('bigger_data', X_train)\n",
    "    np.save('bigger_data_labels', y_train)"
   ]
  },
  {
   "cell_type": "code",
   "execution_count": 24,
   "metadata": {},
   "outputs": [
    {
     "name": "stdout",
     "output_type": "stream",
     "text": [
      "(109016, 32, 32, 3)\n"
     ]
    },
    {
     "ename": "ValueError",
     "evalue": "object too deep for desired array",
     "output_type": "error",
     "traceback": [
      "\u001b[0;31m---------------------------------------------------------------------------\u001b[0m",
      "\u001b[0;31mValueError\u001b[0m                                Traceback (most recent call last)",
      "\u001b[0;32m<ipython-input-24-b438090da0de>\u001b[0m in \u001b[0;36m<module>\u001b[0;34m()\u001b[0m\n\u001b[1;32m      1\u001b[0m \u001b[0mprint\u001b[0m\u001b[0;34m(\u001b[0m\u001b[0mX_train\u001b[0m\u001b[0;34m.\u001b[0m\u001b[0mshape\u001b[0m\u001b[0;34m)\u001b[0m\u001b[0;34m\u001b[0m\u001b[0m\n\u001b[0;32m----> 2\u001b[0;31m \u001b[0mprint\u001b[0m\u001b[0;34m(\u001b[0m\u001b[0mnp\u001b[0m\u001b[0;34m.\u001b[0m\u001b[0mbincount\u001b[0m\u001b[0;34m(\u001b[0m\u001b[0my_train\u001b[0m\u001b[0;34m)\u001b[0m\u001b[0;34m)\u001b[0m\u001b[0;34m\u001b[0m\u001b[0m\n\u001b[0m",
      "\u001b[0;31mValueError\u001b[0m: object too deep for desired array"
     ]
    }
   ],
   "source": [
    "print(X_train.shape)\n",
    "print(np.bincount(y_train))"
   ]
  },
  {
   "cell_type": "markdown",
   "metadata": {},
   "source": [
    "### Pre-process the Data Set (normalization, grayscale, etc.)"
   ]
  },
  {
   "cell_type": "markdown",
   "metadata": {},
   "source": [
    "Minimally, the image data should be normalized so that the data has mean zero and equal variance. For image data, `(pixel - 128)/ 128` is a quick way to approximately normalize the data and can be used in this project. \n",
    "\n",
    "Other pre-processing steps are optional. You can try different techniques to see if it improves performance. \n",
    "\n",
    "Use the code cell (or multiple code cells, if necessary) to implement the first step of your project."
   ]
  },
  {
   "cell_type": "code",
   "execution_count": 10,
   "metadata": {
    "collapsed": true
   },
   "outputs": [],
   "source": [
    "### Preprocess the data here. It is required to normalize the data. Other preprocessing steps could include \n",
    "### converting to grayscale, etc.\n",
    "### Feel free to use as many code cells as needed.\n",
    "def preprocess(image_data, a=0.1, b=0.9):\n",
    "    return a + (image_data * (b - a) / 255)\n",
    "\n",
    "\n",
    "train_features = preprocess(X_train)\n",
    "valid_features = preprocess(X_valid)\n",
    "test_features = preprocess(X_test)"
   ]
  },
  {
   "cell_type": "markdown",
   "metadata": {},
   "source": [
    "### One hot encode classes"
   ]
  },
  {
   "cell_type": "code",
   "execution_count": 11,
   "metadata": {},
   "outputs": [
    {
     "name": "stdout",
     "output_type": "stream",
     "text": [
      "(109016, 43)\n",
      "[0 0 0 0 0 0 0 0 0 0 0 0 0 0 0 0 0 0 0 0 0 0 0 0 0 0 0 0 0 0 0 0 0 0 0 0 0\n",
      " 0 0 0 0 1 0]\n"
     ]
    }
   ],
   "source": [
    "from sklearn.preprocessing import LabelBinarizer\n",
    "\n",
    "\n",
    "encoder = LabelBinarizer()\n",
    "encoder.fit(y_train)\n",
    "train_labels = encoder.transform(y_train)\n",
    "valid_labels = encoder.transform(y_valid)\n",
    "test_labels = encoder.transform(y_test)\n",
    "\n",
    "print(train_labels.shape)\n",
    "print(train_labels[0])\n"
   ]
  },
  {
   "cell_type": "markdown",
   "metadata": {},
   "source": [
    "### Model Architecture"
   ]
  },
  {
   "cell_type": "code",
   "execution_count": 12,
   "metadata": {
    "collapsed": true
   },
   "outputs": [],
   "source": [
    "### Define your architecture here.\n",
    "### Feel free to use as many code cells as needed.\n",
    "import tensorflow as tf\n",
    "\n",
    "from tensorflow.contrib.layers import flatten\n",
    "\n",
    "def LeNet(x, keepprob):    \n",
    "    # Arguments used for tf.truncated_normal, randomly defines variables for the weights and biases for each layer\n",
    "    mu = 0\n",
    "    sigma = 0.1\n",
    "    \n",
    "    # TODO: Layer 1: Convolutional. Input = 32x32x1. Output = 28x28x6.\n",
    "    W_1 = tf.Variable(tf.truncated_normal(shape=(5, 5, 3, 6), mean = mu, stddev = sigma), name=\"w1\")\n",
    "    b_1 = tf.Variable(tf.zeros(6), name=\"b1\")\n",
    "    conv_1_layer = tf.nn.conv2d(x, W_1, strides=[1, 1, 1, 1], padding='VALID') + b_1\n",
    "\n",
    "    # TODO: Activation.\n",
    "    activation_1 = tf.nn.relu(conv_1_layer)\n",
    "    \n",
    "    # TODO: Pooling. Input = 28x28x6. Output = 14x14x6.\n",
    "    layer_1 = tf.nn.max_pool(activation_1, ksize=[1, 2, 2, 1], strides=[1, 2, 2, 1], padding='VALID')\n",
    "    layer_1 = tf.nn.dropout(layer_1, keepprob)\n",
    "\n",
    "    # TODO: Layer 2: Convolutional. Output = 10x10x16.\n",
    "    W_2 = tf.Variable(tf.truncated_normal(shape=(5, 5, 6, 16), mean = mu, stddev = sigma))\n",
    "    b_2 = tf.Variable(tf.zeros(16))\n",
    "    conv_2_layer = tf.nn.conv2d(layer_1, W_2, strides=[1, 1, 1, 1], padding='VALID') + b_2\n",
    "    \n",
    "    # TODO: Activation.\n",
    "    activation_2 = tf.nn.relu(conv_2_layer)\n",
    "\n",
    "    \n",
    "    # TODO: Pooling. Input = 10x10x16. Output = 5x5x16.\n",
    "    layer_2 = tf.nn.max_pool(activation_2, ksize=[1, 2, 2, 1], strides=[1, 2, 2, 1], padding='VALID')\n",
    "    layer_2 = tf.nn.dropout(layer_2, keepprob)\n",
    "    \n",
    "    \n",
    "    \n",
    "    W_25 = tf.Variable(tf.truncated_normal(shape=(3, 3, 16, 32), mean = mu, stddev = sigma))\n",
    "    b_25 = tf.Variable(tf.zeros(32))\n",
    "    conv_25_layer = tf.nn.conv2d(layer_2, W_25, strides=[1, 1, 1, 1], padding='VALID') + b_25\n",
    "    \n",
    "    # TODO: Activation.\n",
    "    activation_25 = tf.nn.relu(conv_25_layer)\n",
    "\n",
    "    \n",
    "    # TODO: Pooling. Input = 10x10x16. Output = 5x5x16.\n",
    "    layer_25 = tf.nn.dropout(activation_25, keepprob, name=\"dropout25\")\n",
    "    \n",
    "    \n",
    "\n",
    "    # TODO: Flatten. Input = 5x5x16. Output = 400.\n",
    "    flat = flatten(layer_25)\n",
    "        \n",
    "    # TODO: Layer 3: Fully Connected. Input = 400. Output = 120.\n",
    "    W_3 = tf.Variable(tf.truncated_normal(shape=(288, 200), mean = mu, stddev = sigma))\n",
    "    b_3 = tf.Variable(tf.zeros(200))\n",
    "    layer_3 = tf.matmul(flat, W_3) + b_3\n",
    "    \n",
    "    # TODO: Activation.\n",
    "    layer_3 = tf.nn.relu(layer_3)\n",
    "    \n",
    "    # TODO: Layer 3: Fully Connected. Input = 400. Output = 120.\n",
    "    W_35 = tf.Variable(tf.truncated_normal(shape=(200, 128), mean = mu, stddev = sigma))\n",
    "    b_35 = tf.Variable(tf.zeros(128))\n",
    "    layer_35 = tf.matmul(layer_3, W_35) + b_35\n",
    "    \n",
    "    # TODO: Activation.\n",
    "    layer_35 = tf.nn.relu(layer_35)\n",
    "\n",
    "    # TODO: Layer 4: Fully Connected. Input = 120. Output = 84.\n",
    "    W_4 = tf.Variable(tf.truncated_normal(shape=(128, 84), mean = mu, stddev = sigma))\n",
    "    b_4 = tf.Variable(tf.zeros(84))\n",
    "    layer_4 = tf.matmul(layer_35, W_4) + b_4\n",
    "    \n",
    "    # TODO: Activation\n",
    "    layer_4 = tf.nn.relu(layer_4)\n",
    "\n",
    "    # TODO: Layer 5: Fully Connected. Input = 84. Output = 10.\n",
    "    W_5 = tf.Variable(tf.truncated_normal(shape=(84, 43), mean = mu, stddev = sigma))\n",
    "    b_5 = tf.Variable(tf.zeros(43))\n",
    "    logits = tf.matmul(layer_4, W_5) + b_5\n",
    "    \n",
    "    return logits"
   ]
  },
  {
   "cell_type": "markdown",
   "metadata": {},
   "source": [
    "### Train, Validate and Test the Model"
   ]
  },
  {
   "cell_type": "markdown",
   "metadata": {},
   "source": [
    "A validation set can be used to assess how well the model is performing. A low accuracy on the training and validation\n",
    "sets imply underfitting. A high accuracy on the training set but low accuracy on the validation set implies overfitting."
   ]
  },
  {
   "cell_type": "code",
   "execution_count": 13,
   "metadata": {
    "collapsed": true
   },
   "outputs": [],
   "source": [
    "# Hyper Parameters\n",
    "EPOCHS = 100\n",
    "BATCH_SIZE = 512\n",
    "LEARNING_RATE = 0.001\n",
    "KEEP_RATE = 0.81\n"
   ]
  },
  {
   "cell_type": "code",
   "execution_count": 14,
   "metadata": {
    "collapsed": true
   },
   "outputs": [],
   "source": [
    "### Train your model here.\n",
    "### Calculate and report the accuracy on the training and validation set.\n",
    "### Once a final model architecture is selected, \n",
    "### the accuracy on the test set should be calculated and reported as well.\n",
    "### Feel free to use as many code cells as needed.\n",
    "\n",
    "x = tf.placeholder(tf.float32, (None, 32, 32, 3))\n",
    "y = tf.placeholder(tf.int32, (None))\n",
    "keepprob = tf.placeholder(tf.float32, (None))\n",
    "\n",
    "logits = LeNet(x, keepprob)\n",
    "cross_entropy = tf.nn.softmax_cross_entropy_with_logits(labels=y, logits=logits)\n",
    "loss_operation = tf.reduce_mean(cross_entropy)\n",
    "optimizer = tf.train.AdamOptimizer(learning_rate = LEARNING_RATE)\n",
    "training_operation = optimizer.minimize(loss_operation)"
   ]
  },
  {
   "cell_type": "code",
   "execution_count": 15,
   "metadata": {
    "collapsed": true
   },
   "outputs": [],
   "source": [
    "correct_prediction = tf.equal(tf.argmax(logits, 1), tf.argmax(y, 1))\n",
    "accuracy_operation = tf.reduce_mean(tf.cast(correct_prediction, tf.float32))\n",
    "saver = tf.train.Saver()\n",
    "\n",
    "def evaluate(X_data, y_data):\n",
    "    num_examples = len(X_data)\n",
    "    total_accuracy = 0\n",
    "    sess = tf.get_default_session()\n",
    "    for offset in range(0, num_examples, BATCH_SIZE):\n",
    "        batch_x, batch_y = X_data[offset:offset+BATCH_SIZE], y_data[offset:offset+BATCH_SIZE]\n",
    "        accuracy = sess.run(accuracy_operation, feed_dict={x: batch_x, y: batch_y, keepprob: 1})\n",
    "        total_accuracy += (accuracy * len(batch_x))\n",
    "    return total_accuracy / num_examples"
   ]
  },
  {
   "cell_type": "code",
   "execution_count": 16,
   "metadata": {},
   "outputs": [
    {
     "name": "stdout",
     "output_type": "stream",
     "text": [
      "Training...\n",
      "\n",
      "\n",
      "EPOCH 1 ...\n",
      "Validation Accuracy = 0.625\n",
      "\n",
      "EPOCH 2 ...\n",
      "Validation Accuracy = 0.790\n",
      "\n",
      "EPOCH 3 ...\n",
      "Validation Accuracy = 0.852\n",
      "\n",
      "EPOCH 4 ...\n",
      "Validation Accuracy = 0.886\n",
      "\n",
      "EPOCH 5 ...\n",
      "Validation Accuracy = 0.907\n",
      "\n",
      "EPOCH 6 ...\n",
      "Validation Accuracy = 0.922\n",
      "\n",
      "EPOCH 7 ...\n",
      "Validation Accuracy = 0.933\n",
      "\n",
      "EPOCH 8 ...\n",
      "Validation Accuracy = 0.928\n",
      "\n",
      "EPOCH 9 ...\n",
      "Validation Accuracy = 0.937\n",
      "\n",
      "EPOCH 10 ...\n",
      "Validation Accuracy = 0.939\n",
      "\n",
      "EPOCH 11 ...\n",
      "Validation Accuracy = 0.944\n",
      "\n",
      "EPOCH 12 ...\n",
      "Validation Accuracy = 0.943\n",
      "\n",
      "EPOCH 13 ...\n",
      "Validation Accuracy = 0.939\n",
      "\n",
      "EPOCH 14 ...\n",
      "Validation Accuracy = 0.945\n",
      "\n",
      "EPOCH 15 ...\n",
      "Validation Accuracy = 0.943\n",
      "\n",
      "EPOCH 16 ...\n",
      "Validation Accuracy = 0.948\n",
      "\n",
      "EPOCH 17 ...\n",
      "Validation Accuracy = 0.946\n",
      "\n",
      "EPOCH 18 ...\n",
      "Validation Accuracy = 0.950\n",
      "\n",
      "EPOCH 19 ...\n",
      "Validation Accuracy = 0.951\n",
      "\n",
      "EPOCH 20 ...\n",
      "Validation Accuracy = 0.951\n",
      "\n",
      "EPOCH 21 ...\n",
      "Validation Accuracy = 0.950\n",
      "\n",
      "EPOCH 22 ...\n",
      "Validation Accuracy = 0.949\n",
      "\n",
      "EPOCH 23 ...\n",
      "Validation Accuracy = 0.947\n",
      "\n",
      "EPOCH 24 ...\n",
      "Validation Accuracy = 0.950\n",
      "\n",
      "EPOCH 25 ...\n",
      "Validation Accuracy = 0.950\n",
      "\n",
      "EPOCH 26 ...\n",
      "Validation Accuracy = 0.951\n",
      "\n",
      "EPOCH 27 ...\n",
      "Validation Accuracy = 0.956\n",
      "\n",
      "EPOCH 28 ...\n",
      "Validation Accuracy = 0.951\n",
      "\n",
      "EPOCH 29 ...\n",
      "Validation Accuracy = 0.946\n",
      "\n",
      "EPOCH 30 ...\n",
      "Validation Accuracy = 0.952\n",
      "\n",
      "EPOCH 31 ...\n",
      "Validation Accuracy = 0.947\n",
      "\n",
      "EPOCH 32 ...\n",
      "Validation Accuracy = 0.956\n",
      "\n",
      "EPOCH 33 ...\n",
      "Validation Accuracy = 0.951\n",
      "\n",
      "EPOCH 34 ...\n",
      "Validation Accuracy = 0.955\n",
      "\n",
      "EPOCH 35 ...\n",
      "Validation Accuracy = 0.958\n",
      "\n",
      "EPOCH 36 ...\n",
      "Validation Accuracy = 0.957\n",
      "\n",
      "EPOCH 37 ...\n",
      "Validation Accuracy = 0.959\n",
      "\n",
      "EPOCH 38 ...\n",
      "Validation Accuracy = 0.960\n",
      "\n",
      "EPOCH 39 ...\n",
      "Validation Accuracy = 0.955\n",
      "\n",
      "EPOCH 40 ...\n",
      "Validation Accuracy = 0.953\n",
      "\n",
      "EPOCH 41 ...\n",
      "Validation Accuracy = 0.955\n",
      "\n",
      "EPOCH 42 ...\n",
      "Validation Accuracy = 0.955\n",
      "\n",
      "EPOCH 43 ...\n",
      "Validation Accuracy = 0.960\n",
      "\n",
      "EPOCH 44 ...\n",
      "Validation Accuracy = 0.956\n",
      "\n",
      "EPOCH 45 ...\n",
      "Validation Accuracy = 0.962\n",
      "\n",
      "EPOCH 46 ...\n",
      "Validation Accuracy = 0.959\n",
      "\n",
      "EPOCH 47 ...\n",
      "Validation Accuracy = 0.958\n",
      "\n",
      "EPOCH 48 ...\n",
      "Validation Accuracy = 0.955\n",
      "\n",
      "EPOCH 49 ...\n",
      "Validation Accuracy = 0.959\n",
      "\n",
      "EPOCH 50 ...\n",
      "Validation Accuracy = 0.954\n",
      "\n",
      "EPOCH 51 ...\n",
      "Validation Accuracy = 0.958\n",
      "\n",
      "EPOCH 52 ...\n",
      "Validation Accuracy = 0.959\n",
      "\n",
      "EPOCH 53 ...\n",
      "Validation Accuracy = 0.958\n",
      "\n",
      "EPOCH 54 ...\n",
      "Validation Accuracy = 0.957\n",
      "\n",
      "EPOCH 55 ...\n",
      "Validation Accuracy = 0.962\n",
      "\n",
      "EPOCH 56 ...\n",
      "Validation Accuracy = 0.965\n",
      "\n",
      "EPOCH 57 ...\n",
      "Validation Accuracy = 0.962\n",
      "\n",
      "EPOCH 58 ...\n",
      "Validation Accuracy = 0.952\n",
      "\n",
      "EPOCH 59 ...\n",
      "Validation Accuracy = 0.958\n",
      "\n",
      "EPOCH 60 ...\n",
      "Validation Accuracy = 0.961\n",
      "\n",
      "EPOCH 61 ...\n",
      "Validation Accuracy = 0.963\n",
      "\n",
      "EPOCH 62 ...\n",
      "Validation Accuracy = 0.959\n",
      "\n",
      "EPOCH 63 ...\n",
      "Validation Accuracy = 0.958\n",
      "\n",
      "EPOCH 64 ...\n",
      "Validation Accuracy = 0.962\n",
      "\n",
      "EPOCH 65 ...\n",
      "Validation Accuracy = 0.957\n",
      "\n",
      "EPOCH 66 ...\n",
      "Validation Accuracy = 0.959\n",
      "\n",
      "EPOCH 67 ...\n",
      "Validation Accuracy = 0.964\n",
      "\n",
      "EPOCH 68 ...\n",
      "Validation Accuracy = 0.957\n",
      "\n",
      "EPOCH 69 ...\n",
      "Validation Accuracy = 0.952\n",
      "\n",
      "EPOCH 70 ...\n",
      "Validation Accuracy = 0.963\n",
      "\n",
      "EPOCH 71 ...\n",
      "Validation Accuracy = 0.964\n",
      "\n",
      "EPOCH 72 ...\n",
      "Validation Accuracy = 0.957\n",
      "\n",
      "EPOCH 73 ...\n",
      "Validation Accuracy = 0.958\n",
      "\n",
      "EPOCH 74 ...\n",
      "Validation Accuracy = 0.962\n",
      "\n",
      "EPOCH 75 ...\n",
      "Validation Accuracy = 0.961\n",
      "\n",
      "EPOCH 76 ...\n",
      "Validation Accuracy = 0.965\n",
      "\n",
      "EPOCH 77 ...\n",
      "Validation Accuracy = 0.958\n",
      "\n",
      "EPOCH 78 ...\n",
      "Validation Accuracy = 0.963\n",
      "\n",
      "EPOCH 79 ...\n",
      "Validation Accuracy = 0.961\n",
      "\n",
      "EPOCH 80 ...\n",
      "Validation Accuracy = 0.959\n",
      "\n",
      "EPOCH 81 ...\n",
      "Validation Accuracy = 0.957\n",
      "\n",
      "EPOCH 82 ...\n",
      "Validation Accuracy = 0.954\n",
      "\n",
      "EPOCH 83 ...\n",
      "Validation Accuracy = 0.960\n",
      "\n",
      "EPOCH 84 ...\n",
      "Validation Accuracy = 0.954\n",
      "\n",
      "EPOCH 85 ...\n",
      "Validation Accuracy = 0.959\n",
      "\n",
      "EPOCH 86 ...\n",
      "Validation Accuracy = 0.962\n",
      "\n",
      "EPOCH 87 ...\n",
      "Validation Accuracy = 0.964\n",
      "\n",
      "EPOCH 88 ...\n",
      "Validation Accuracy = 0.957\n",
      "\n",
      "EPOCH 89 ...\n",
      "Validation Accuracy = 0.960\n",
      "\n",
      "EPOCH 90 ...\n",
      "Validation Accuracy = 0.959\n",
      "\n",
      "EPOCH 91 ...\n",
      "Validation Accuracy = 0.959\n",
      "\n",
      "EPOCH 92 ...\n",
      "Validation Accuracy = 0.966\n",
      "\n",
      "EPOCH 93 ...\n",
      "Validation Accuracy = 0.959\n",
      "\n",
      "EPOCH 94 ...\n",
      "Validation Accuracy = 0.956\n",
      "\n",
      "EPOCH 95 ...\n",
      "Validation Accuracy = 0.965\n",
      "\n",
      "EPOCH 96 ...\n",
      "Validation Accuracy = 0.961\n",
      "\n",
      "EPOCH 97 ...\n",
      "Validation Accuracy = 0.960\n",
      "\n",
      "EPOCH 98 ...\n",
      "Validation Accuracy = 0.962\n",
      "\n",
      "EPOCH 99 ...\n",
      "Validation Accuracy = 0.961\n",
      "\n",
      "EPOCH 100 ...\n",
      "Validation Accuracy = 0.956\n",
      "\n",
      "Model saved\n"
     ]
    }
   ],
   "source": [
    "from sklearn.utils import shuffle\n",
    "\n",
    "with tf.Session() as sess:\n",
    "    sess.run(tf.global_variables_initializer())\n",
    "    num_examples = len(train_features)\n",
    "    \n",
    "    print(\"Training...\")\n",
    "    print()\n",
    "    print()\n",
    "    for i in range(EPOCHS):\n",
    "        X_train, y_train = shuffle(train_features, train_labels)\n",
    "        for offset in range(0, num_examples, BATCH_SIZE):\n",
    "            end = offset + BATCH_SIZE\n",
    "            batch_x, batch_y = X_train[offset:end], y_train[offset:end]\n",
    "            sess.run(training_operation, feed_dict={x: batch_x, y: batch_y, keepprob: KEEP_RATE})\n",
    "            \n",
    "        validation_accuracy = evaluate(valid_features, valid_labels)\n",
    "        print(\"EPOCH {} ...\".format(i+1))\n",
    "        print(\"Validation Accuracy = {:.3f}\".format(validation_accuracy))\n",
    "        print()\n",
    "        \n",
    "    saver.save(sess, './lenet')\n",
    "    print(\"Model saved\")"
   ]
  },
  {
   "cell_type": "markdown",
   "metadata": {},
   "source": [
    "---\n",
    "\n",
    "## Step 3: Test a Model on New Images\n",
    "\n",
    "To give yourself more insight into how your model is working, download at least five pictures of German traffic signs from the web and use your model to predict the traffic sign type.\n",
    "\n",
    "You may find `signnames.csv` useful as it contains mappings from the class id (integer) to the actual sign name."
   ]
  },
  {
   "cell_type": "markdown",
   "metadata": {},
   "source": [
    "### Load and Output the Images"
   ]
  },
  {
   "cell_type": "code",
   "execution_count": 17,
   "metadata": {},
   "outputs": [
    {
     "data": {
      "image/png": "[encoded data removed]",
      "text/plain": [
       "<matplotlib.figure.Figure at 0x7feb96330f98>"
      ]
     },
     "metadata": {},
     "output_type": "display_data"
    },
    {
     "data": {
      "image/png": "[encoded data removed]",
      "text/plain": [
       "<matplotlib.figure.Figure at 0x7febf6523320>"
      ]
     },
     "metadata": {},
     "output_type": "display_data"
    },
    {
     "data": {
      "image/png": "[encoded data removed]",
      "text/plain": [
       "<matplotlib.figure.Figure at 0x7febf6562630>"
      ]
     },
     "metadata": {},
     "output_type": "display_data"
    },
    {
     "data": {
      "image/png": "[encoded data removed]",
      "text/plain": [
       "<matplotlib.figure.Figure at 0x7febf6539dd8>"
      ]
     },
     "metadata": {},
     "output_type": "display_data"
    },
    {
     "data": {
      "image/png": "[encoded data removed]",
      "text/plain": [
       "<matplotlib.figure.Figure at 0x7feb95bd0860>"
      ]
     },
     "metadata": {},
     "output_type": "display_data"
    },
    {
     "data": {
      "image/png": "[encoded data removed]",
      "text/plain": [
       "<matplotlib.figure.Figure at 0x7feb95b68c50>"
      ]
     },
     "metadata": {},
     "output_type": "display_data"
    },
    {
     "data": {
      "image/png": "[encoded data removed]",
      "text/plain": [
       "<matplotlib.figure.Figure at 0x7feb95b617f0>"
      ]
     },
     "metadata": {},
     "output_type": "display_data"
    }
   ],
   "source": [
    "### Load the images and plot them here.\n",
    "### Feel free to use as many code cells as needed.\n",
    "from PIL import Image, ImageOps\n",
    "from skimage import io\n",
    "\n",
    "urls = [\n",
    "    'http://bicyclegermany.com/Images/Laws/100_1607.jpg',\n",
    "    'http://l450v.alamy.com/450v/e73t9x/germany-berlin-mitte-temporary-blue-one-way-traffic-control-roadsign-e73t9x.jpg',\n",
    "    'http://bicyclegermany.com/Images/Laws/Stop%20sign.jpg',\n",
    "    'https://thumbs.dreamstime.com/z/road-sign-priority-5565762.jpg',\n",
    "    'http://l7.alamy.com/zooms/275494bcd2d5433da92b19aacfdc23f7/blue-circular-roundabout-road-sign-arab2g.jpg',\n",
    "    'https://assets.publishing.service.gov.uk/media/55b9f50240f0b6151c000021/sign-giving-order-no-overtaking.jpg',\n",
    "    'https://thumbs.dreamstime.com/z/no-cars-allowed-2501213.jpg'\n",
    "]\n",
    "\n",
    "test_images = []\n",
    "\n",
    "for url in urls:\n",
    "    img = Image.fromarray(io.imread(url))\n",
    "    img = ImageOps.fit(img, (32, 32), Image.ANTIALIAS)\n",
    "    test_images.append(preprocess(np.uint8(img)))\n",
    "            \n",
    "    plt.figure()\n",
    "    plt.imshow(img)\n",
    "    plt.show()\n",
    "    \n",
    "test_images = np.float32(test_images)"
   ]
  },
  {
   "cell_type": "markdown",
   "metadata": {},
   "source": [
    "### Predict the Sign Type for Each Image"
   ]
  },
  {
   "cell_type": "code",
   "execution_count": 18,
   "metadata": {
    "collapsed": true
   },
   "outputs": [],
   "source": [
    "### Run the predictions here and use the model to output the prediction for each image.\n",
    "### Make sure to pre-process the images with the same pre-processing pipeline used earlier.\n",
    "### Feel free to use as many code cells as needed.\n",
    "with tf.Session() as sess:\n",
    "    saver.restore(sess, tf.train.latest_checkpoint('.'))\n",
    "\n",
    "    pred = tf.nn.softmax(logits)\n",
    "    results = sess.run(pred, feed_dict={x: test_images, keepprob: 1})"
   ]
  },
  {
   "cell_type": "code",
   "execution_count": 19,
   "metadata": {},
   "outputs": [
    {
     "name": "stdout",
     "output_type": "stream",
     "text": [
      "\"Right-of-way at the next intersection\" sign with probability of 0.9999994039535522%\n",
      "\"Ahead only\" sign with probability of 0.6918582320213318%\n",
      "\"Stop\" sign with probability of 0.9998335838317871%\n",
      "\"Priority road\" sign with probability of 1.0%\n",
      "\"Roundabout mandatory\" sign with probability of 0.9810055494308472%\n",
      "\"End of no passing\" sign with probability of 0.8814811110496521%\n",
      "\"Right-of-way at the next intersection\" sign with probability of 0.9637935161590576%\n"
     ]
    }
   ],
   "source": [
    "for result in results:\n",
    "    print('\"{}\" sign with probability of {}%'.format(mappings.loc[np.argmax(result)][1], np.max(result)))\n",
    "    "
   ]
  },
  {
   "cell_type": "markdown",
   "metadata": {},
   "source": [
    "### Analyze Performance"
   ]
  },
  {
   "cell_type": "markdown",
   "metadata": {
    "collapsed": true
   },
   "source": [
    "### Calculate the accuracy for these 5 new images. \n",
    "\n",
    "For the first six images it scores 83% accuracy. I wanted to see if I could trick the network by passing in a sign that it had not learned about, but it produced low accuracy which is a good behavior to have. "
   ]
  },
  {
   "cell_type": "markdown",
   "metadata": {},
   "source": [
    "### Output Top 5 Softmax Probabilities For Each Image Found on the Web"
   ]
  },
  {
   "cell_type": "markdown",
   "metadata": {},
   "source": [
    "For each of the new images, print out the model's softmax probabilities to show the **certainty** of the model's predictions (limit the output to the top 5 probabilities for each image). [`tf.nn.top_k`](https://www.tensorflow.org/versions/r0.12/api_docs/python/nn.html#top_k) could prove helpful here. \n",
    "\n",
    "The example below demonstrates how tf.nn.top_k can be used to find the top k predictions for each image.\n",
    "\n",
    "`tf.nn.top_k` will return the values and indices (class ids) of the top k predictions. So if k=3, for each sign, it'll return the 3 largest probabilities (out of a possible 43) and the correspoding class ids.\n",
    "\n",
    "Take this numpy array as an example. The values in the array represent predictions. The array contains softmax probabilities for five candidate images with six possible classes. `tf.nn.top_k` is used to choose the three classes with the highest probability:\n",
    "\n",
    "```\n",
    "# (5, 6) array\n",
    "a = np.array([[ 0.24879643,  0.07032244,  0.12641572,  0.34763842,  0.07893497,\n",
    "         0.12789202],\n",
    "       [ 0.28086119,  0.27569815,  0.08594638,  0.0178669 ,  0.18063401,\n",
    "         0.15899337],\n",
    "       [ 0.26076848,  0.23664738,  0.08020603,  0.07001922,  0.1134371 ,\n",
    "         0.23892179],\n",
    "       [ 0.11943333,  0.29198961,  0.02605103,  0.26234032,  0.1351348 ,\n",
    "         0.16505091],\n",
    "       [ 0.09561176,  0.34396535,  0.0643941 ,  0.16240774,  0.24206137,\n",
    "         0.09155967]])\n",
    "```\n",
    "\n",
    "Running it through `sess.run(tf.nn.top_k(tf.constant(a), k=3))` produces:\n",
    "\n",
    "```\n",
    "TopKV2(values=array([[ 0.34763842,  0.24879643,  0.12789202],\n",
    "       [ 0.28086119,  0.27569815,  0.18063401],\n",
    "       [ 0.26076848,  0.23892179,  0.23664738],\n",
    "       [ 0.29198961,  0.26234032,  0.16505091],\n",
    "       [ 0.34396535,  0.24206137,  0.16240774]]), indices=array([[3, 0, 5],\n",
    "       [0, 1, 4],\n",
    "       [0, 5, 1],\n",
    "       [1, 3, 5],\n",
    "       [1, 4, 3]], dtype=int32))\n",
    "```\n",
    "\n",
    "Looking just at the first row we get `[ 0.34763842,  0.24879643,  0.12789202]`, you can confirm these are the 3 largest probabilities in `a`. You'll also notice `[3, 0, 5]` are the corresponding indices."
   ]
  },
  {
   "cell_type": "code",
   "execution_count": 20,
   "metadata": {},
   "outputs": [
    {
     "name": "stdout",
     "output_type": "stream",
     "text": [
      "TopKV2(values=array([[  9.99999404e-01,   5.95163101e-07,   1.05597930e-09,\n",
      "          1.70780307e-10,   1.42740663e-11],\n",
      "       [  6.91858232e-01,   3.05966169e-01,   1.11880200e-03,\n",
      "          3.73807095e-04,   3.19892744e-04],\n",
      "       [  9.99833584e-01,   1.27992898e-04,   2.89928557e-05,\n",
      "          7.78545927e-06,   9.96512085e-07],\n",
      "       [  1.00000000e+00,   1.16760495e-08,   4.86708851e-09,\n",
      "          3.84704180e-09,   1.39678924e-09],\n",
      "       [  9.81005549e-01,   1.81073714e-02,   6.82929764e-04,\n",
      "          1.09350804e-04,   4.89355407e-05],\n",
      "       [  8.81481111e-01,   6.33480996e-02,   3.90658192e-02,\n",
      "          1.21120745e-02,   3.46486992e-03],\n",
      "       [  9.63793516e-01,   1.70526952e-02,   1.62906144e-02,\n",
      "          4.88725607e-04,   4.60960495e-04]], dtype=float32), indices=array([[11, 30, 21, 27, 28],\n",
      "       [35, 36, 38, 34, 37],\n",
      "       [14, 13,  1,  0,  8],\n",
      "       [12, 11,  1, 14, 10],\n",
      "       [40, 37, 36, 38, 35],\n",
      "       [41, 12, 26, 42,  1],\n",
      "       [11, 16, 26,  5, 10]], dtype=int32))\n"
     ]
    }
   ],
   "source": [
    "### Print out the top five softmax probabilities for the predictions on the German traffic sign images found on the web. \n",
    "### Feel free to use as many code cells as needed.\n",
    "with tf.Session() as sess:\n",
    "    saver.restore(sess, tf.train.latest_checkpoint('.'))\n",
    "\n",
    "    top_5 = tf.nn.top_k(pred, k=5)\n",
    "    results = sess.run(top_5, feed_dict={x: test_images, keepprob: 1})\n",
    "    print(results)"
   ]
  },
  {
   "cell_type": "markdown",
   "metadata": {},
   "source": [
    "### Project Writeup\n",
    "\n",
    "Once you have completed the code implementation, document your results in a project writeup using this [template](https://github.com/udacity/CarND-Traffic-Sign-Classifier-Project/blob/master/writeup_template.md) as a guide. The writeup can be in a markdown or pdf file. "
   ]
  },
  {
   "cell_type": "markdown",
   "metadata": {},
   "source": [
    "> **Note**: Once you have completed all of the code implementations and successfully answered each question above, you may finalize your work by exporting the iPython Notebook as an HTML document. You can do this by using the menu above and navigating to  \\n\",\n",
    "    \"**File -> Download as -> HTML (.html)**. Include the finished document along with this notebook as your submission."
   ]
  },
  {
   "cell_type": "markdown",
   "metadata": {},
   "source": [
    "# Evaluation on test set"
   ]
  },
  {
   "cell_type": "code",
   "execution_count": 21,
   "metadata": {},
   "outputs": [
    {
     "name": "stdout",
     "output_type": "stream",
     "text": [
      "Test Accuracy = 0.948\n"
     ]
    }
   ],
   "source": [
    "with tf.Session() as sess:\n",
    "    saver.restore(sess, tf.train.latest_checkpoint('.'))\n",
    "\n",
    "    test_accuracy = evaluate(test_features, test_labels)\n",
    "    print(\"Test Accuracy = {:.3f}\".format(test_accuracy))"
   ]
  },
  {
   "cell_type": "markdown",
   "metadata": {},
   "source": [
    "---\n",
    "\n",
    "## Step 4 (Optional): Visualize the Neural Network's State with Test Images\n",
    "\n",
    " This Section is not required to complete but acts as an additional excersise for understaning the output of a neural network's weights. While neural networks can be a great learning device they are often referred to as a black box. We can understand what the weights of a neural network look like better by plotting their feature maps. After successfully training your neural network you can see what it's feature maps look like by plotting the output of the network's weight layers in response to a test stimuli image. From these plotted feature maps, it's possible to see what characteristics of an image the network finds interesting. For a sign, maybe the inner network feature maps react with high activation to the sign's boundary outline or to the contrast in the sign's painted symbol.\n",
    "\n",
    " Provided for you below is the function code that allows you to get the visualization output of any tensorflow weight layer you want. The inputs to the function should be a stimuli image, one used during training or a new one you provided, and then the tensorflow variable name that represents the layer's state during the training process, for instance if you wanted to see what the [LeNet lab's](https://classroom.udacity.com/nanodegrees/nd013/parts/fbf77062-5703-404e-b60c-95b78b2f3f9e/modules/6df7ae49-c61c-4bb2-a23e-6527e69209ec/lessons/601ae704-1035-4287-8b11-e2c2716217ad/concepts/d4aca031-508f-4e0b-b493-e7b706120f81) feature maps looked like for it's second convolutional layer you could enter conv2 as the tf_activation variable.\n",
    "\n",
    "For an example of what feature map outputs look like, check out NVIDIA's results in their paper [End-to-End Deep Learning for Self-Driving Cars](https://devblogs.nvidia.com/parallelforall/deep-learning-self-driving-cars/) in the section Visualization of internal CNN State. NVIDIA was able to show that their network's inner weights had high activations to road boundary lines by comparing feature maps from an image with a clear path to one without. Try experimenting with a similar test to show that your trained network's weights are looking for interesting features, whether it's looking at differences in feature maps from images with or without a sign, or even what feature maps look like in a trained network vs a completely untrained one on the same sign image.\n",
    "\n",
    "<figure>\n",
    " <img src=\"visualize_cnn.png\" width=\"380\" alt=\"Combined Image\" />\n",
    " <figcaption>\n",
    " <p></p> \n",
    " <p style=\"text-align: center;\"> Your output should look something like this (above)</p> \n",
    " </figcaption>\n",
    "</figure>\n",
    " <p></p> \n"
   ]
  },
  {
   "cell_type": "code",
   "execution_count": 22,
   "metadata": {
    "collapsed": true
   },
   "outputs": [],
   "source": [
    "### Visualize your network's feature maps here.\n",
    "### Feel free to use as many code cells as needed.\n",
    "\n",
    "# image_input: the test image being fed into the network to produce the feature maps\n",
    "# tf_activation: should be a tf variable name used during your training procedure that represents the calculated state of a specific weight layer\n",
    "# activation_min/max: can be used to view the activation contrast in more detail, by default matplot sets min and max to the actual min and max values of the output\n",
    "# plt_num: used to plot out multiple different weight feature map sets on the same block, just extend the plt number for each new feature map entry\n",
    "\n",
    "def outputFeatureMap(image_input, tf_activation, activation_min=-1, activation_max=-1 ,plt_num=1):\n",
    "    # Here make sure to preprocess your image_input in a way your network expects\n",
    "    # with size, normalization, ect if needed\n",
    "    # image_input =\n",
    "    # Note: x should be the same name as your network's tensorflow data placeholder variable\n",
    "    # If you get an error tf_activation is not defined it may be having trouble accessing the variable from inside a function\n",
    "    activation = tf_activation.eval(session=sess,feed_dict={x : image_input})\n",
    "    featuremaps = activation.shape[3]\n",
    "    plt.figure(plt_num, figsize=(15,15))\n",
    "    for featuremap in range(featuremaps):\n",
    "        plt.subplot(6,8, featuremap+1) # sets the number of feature maps to show on each row and column\n",
    "        plt.title('FeatureMap ' + str(featuremap)) # displays the feature map number\n",
    "        if activation_min != -1 & activation_max != -1:\n",
    "            plt.imshow(activation[0,:,:, featuremap], interpolation=\"nearest\", vmin =activation_min, vmax=activation_max, cmap=\"gray\")\n",
    "        elif activation_max != -1:\n",
    "            plt.imshow(activation[0,:,:, featuremap], interpolation=\"nearest\", vmax=activation_max, cmap=\"gray\")\n",
    "        elif activation_min !=-1:\n",
    "            plt.imshow(activation[0,:,:, featuremap], interpolation=\"nearest\", vmin=activation_min, cmap=\"gray\")\n",
    "        else:\n",
    "            plt.imshow(activation[0,:,:, featuremap], interpolation=\"nearest\", cmap=\"gray\")"
   ]
  }
 ],
 "metadata": {
  "anaconda-cloud": {},
  "kernelspec": {
   "display_name": "Python 3",
   "language": "python",
   "name": "python3"
  },
  "language_info": {
   "codemirror_mode": {
    "name": "ipython",
    "version": 3
   },
   "file_extension": ".py",
   "mimetype": "text/x-python",
   "name": "python",
   "nbconvert_exporter": "python",
   "pygments_lexer": "ipython3",
   "version": "3.5.2"
  },
  "widgets": {
   "state": {},
   "version": "1.1.2"
  }
 },
 "nbformat": 4,
 "nbformat_minor": 1
}
